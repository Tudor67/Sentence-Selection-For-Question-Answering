{
 "cells": [
  {
   "cell_type": "markdown",
   "metadata": {},
   "source": [
    "## Content\n",
    "1. [Loading preprocessed data](#1.-Loading-preprocessed-data)  \n",
    "2. [BM25](#2.-BM25)  "
   ]
  },
  {
   "cell_type": "markdown",
   "metadata": {
    "collapsed": true
   },
   "source": [
    "## 1. Loading preprocessed data"
   ]
  },
  {
   "cell_type": "code",
   "execution_count": 1,
   "metadata": {
    "collapsed": true
   },
   "outputs": [],
   "source": [
    "import json\n",
    "import pandas as pd\n",
    "\n",
    "from input_output import load_data, write_results\n",
    "from pprint import pprint\n",
    "from tqdm import tqdm\n",
    "\n",
    "IN_PATH = '../data/squad/'"
   ]
  },
  {
   "cell_type": "code",
   "execution_count": 2,
   "metadata": {},
   "outputs": [],
   "source": [
    "train = load_data(IN_PATH + 'train-v1.1-preprocessed.json')\n",
    "dev = load_data(IN_PATH + 'dev-v1.1-preprocessed.json')"
   ]
  },
  {
   "cell_type": "markdown",
   "metadata": {},
   "source": [
    "## 2. BM25"
   ]
  },
  {
   "cell_type": "code",
   "execution_count": 3,
   "metadata": {
    "collapsed": true
   },
   "outputs": [],
   "source": [
    "import evaluation\n",
    "import numpy as np\n",
    "\n",
    "from gensim.summarization.bm25 import BM25"
   ]
  },
  {
   "cell_type": "code",
   "execution_count": 4,
   "metadata": {
    "collapsed": true
   },
   "outputs": [],
   "source": [
    "def get_bm25_scores(dataset):\n",
    "    bm25_scores = list()\n",
    "    labels = list()\n",
    "    \n",
    "    for article in tqdm(dataset['data']):\n",
    "        for qas_context in article['paragraphs']:\n",
    "            for qas in qas_context['qas']:\n",
    "                question_sentence = qas['question_words']\n",
    "                candidate_sentences = qas_context['context_sentences_words']   \n",
    "                labels.append(set([d['answer_label'] for d in qas['answers']]))\n",
    "                \n",
    "                bm25 = BM25(candidate_sentences)\n",
    "                candidate_scores = bm25.get_scores(question_sentence, 1)\n",
    "                candidate_scores_dict = dict(zip(range(len(candidate_scores)),\n",
    "                                                 candidate_scores))\n",
    "                \n",
    "                sorted_scores_id = sorted(candidate_scores_dict, \n",
    "                                          key=candidate_scores_dict.get, \n",
    "                                          reverse=True)\n",
    "                \n",
    "                bm25_scores.append(sorted_scores_id)\n",
    "    \n",
    "    return (bm25_scores, labels)"
   ]
  },
  {
   "cell_type": "code",
   "execution_count": 5,
   "metadata": {},
   "outputs": [
    {
     "name": "stderr",
     "output_type": "stream",
     "text": [
      "100%|██████████| 442/442 [00:11<00:00, 36.84it/s]\n",
      "100%|██████████| 48/48 [00:01<00:00, 32.78it/s]\n"
     ]
    }
   ],
   "source": [
    "(train_scores_id_sorted, train_labels) = get_bm25_scores(train)\n",
    "(dev_scores_id_sorted, dev_labels) = get_bm25_scores(dev)"
   ]
  },
  {
   "cell_type": "code",
   "execution_count": 6,
   "metadata": {},
   "outputs": [],
   "source": [
    "train_results = evaluation.get_results(train_scores_id_sorted, train_labels, 'train [bm25]')\n",
    "dev_results = evaluation.get_results(dev_scores_id_sorted, dev_labels, 'dev [bm25]')"
   ]
  },
  {
   "cell_type": "code",
   "execution_count": 7,
   "metadata": {},
   "outputs": [
    {
     "name": "stdout",
     "output_type": "stream",
     "text": [
      "Method: train [bm25]\n",
      "AvgPrec@1: 0.755316841516 (std = 0.429899186366)\n",
      "MAP: 0.855130002137 (std = 0.261382586907)\n",
      "\n",
      "\n",
      "Method: dev [bm25]\n",
      "AvgPrec@1: 0.786754966887 (std = 0.409599302936)\n",
      "MAP: 0.869082662712 (std = 0.241973363739)\n",
      "\n",
      "\n"
     ]
    }
   ],
   "source": [
    "write_results(train_results)\n",
    "write_results(dev_results)"
   ]
  }
 ],
 "metadata": {
  "kernelspec": {
   "display_name": "Python 2",
   "language": "python",
   "name": "python2"
  },
  "language_info": {
   "codemirror_mode": {
    "name": "ipython",
    "version": 2
   },
   "file_extension": ".py",
   "mimetype": "text/x-python",
   "name": "python",
   "nbconvert_exporter": "python",
   "pygments_lexer": "ipython2",
   "version": "2.7.14"
  }
 },
 "nbformat": 4,
 "nbformat_minor": 2
}
