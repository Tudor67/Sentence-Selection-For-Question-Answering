{
 "cells": [
  {
   "cell_type": "markdown",
   "metadata": {},
   "source": [
    "## Content\n",
    "1. [Loading preprocessed data](#1.-Loading-preprocessed-data)  \n",
    "2. [Solutions](#2.-Solutions)  \n",
    "    2.1 [Random approach](#2.1-Random-approach)  \n",
    "    2.2 [String kernels](#2.2-String-kernels)   \n",
    "      2.2.1 [Spectrum kernels](#2.2.1-Spectrum-kernels)  \n",
    "      2.2.2 [Presence kernels](#2.2.2-Presence-kernels)  \n",
    "      2.2.3 [Intersection kernels](#2.2.3-Intersection-kernels)  \n",
    "3. [Results](#3.-Results)  "
   ]
  },
  {
   "cell_type": "markdown",
   "metadata": {
    "collapsed": true
   },
   "source": [
    "## 1. Loading preprocessed data"
   ]
  },
  {
   "cell_type": "code",
   "execution_count": 1,
   "metadata": {
    "collapsed": true
   },
   "outputs": [],
   "source": [
    "import json\n",
    "from pprint import pprint\n",
    "\n",
    "IN_PATH = '../data/squad/'\n",
    "\n",
    "\n",
    "def load_data(filename):\n",
    "    data = []\n",
    "    with open(filename) as f:\n",
    "        data = json.load(f)  \n",
    "        \n",
    "    return data"
   ]
  },
  {
   "cell_type": "code",
   "execution_count": 2,
   "metadata": {
    "collapsed": true
   },
   "outputs": [],
   "source": [
    "train = load_data(IN_PATH + 'train-v1.1-preprocessed.json')\n",
    "dev = load_data(IN_PATH + 'dev-v1.1-preprocessed.json')"
   ]
  },
  {
   "cell_type": "markdown",
   "metadata": {},
   "source": [
    "## 2. Solutions"
   ]
  },
  {
   "cell_type": "markdown",
   "metadata": {},
   "source": [
    "** Let's import evaluation module. **"
   ]
  },
  {
   "cell_type": "code",
   "execution_count": 3,
   "metadata": {
    "collapsed": true
   },
   "outputs": [],
   "source": [
    "import evaluation"
   ]
  },
  {
   "cell_type": "markdown",
   "metadata": {},
   "source": [
    "** Let's define a generic function to run different methods/solutions/approaches. **"
   ]
  },
  {
   "cell_type": "code",
   "execution_count": 4,
   "metadata": {
    "collapsed": true
   },
   "outputs": [],
   "source": [
    "def run_method(method, question_words, candidate_answers_words):\n",
    "    if method == 'random_solution':\n",
    "        return random_solution(len(candidate_answers_words))\n",
    "    elif 'kernel' in method:\n",
    "        return kernel_solution(question_words, candidate_answers_words, method)\n",
    "    \n",
    "    return None\n",
    "\n",
    "\n",
    "def run(dataset, method='random_solution'):\n",
    "    results = {'Method': method, 'Prec@1': [], 'Prec@5': [], 'Prec@10': [],\n",
    "               'AvgPrec': [], 'MAP': 0}\n",
    "    idx = 0\n",
    "    for article in dataset['data']:\n",
    "        for qas_context in article['paragraphs']:\n",
    "            # get the number of candidate answers\n",
    "            nr_candidate_answers = qas_context['nr_candidate_answers']\n",
    "\n",
    "            for qas in qas_context['qas']:\n",
    "                # get answers' labels from context\n",
    "                answer_labels = list()\n",
    "                for answer in qas['answers']:\n",
    "                    answer_labels.append(answer['answer_label'])\n",
    "                    \n",
    "                # trying to keep the same notation\n",
    "                question_words = qas['question_words']\n",
    "                candidate_answers_words = qas_context['context_sentences_words']\n",
    "                y = answer_labels\n",
    "                \n",
    "                # run a method\n",
    "                y_pred = run_method(method, question_words, candidate_answers_words)\n",
    "                \n",
    "                # evaluation\n",
    "                results['Prec@1'].append(evaluation.precision_at_k(y_pred, y, k=1))\n",
    "                #results['Prec@5'].append(evaluation.precision_at_k(y_pred, y, k=5))\n",
    "                #results['Prec@10'].append(evaluation.precision_at_k(y_pred, y, k=10))\n",
    "                results['AvgPrec'].append(evaluation.average_precision(y_pred, y))\n",
    "                \n",
    "                '''\n",
    "                if idx == 414:\n",
    "                    print('idx: {}\\n'.format(idx))\n",
    "                    print('question: {}\\n'.format(question))\n",
    "                    print('candidate_answers:')\n",
    "                    pprint(candidate_answers)\n",
    "                    print('context length', len(qas_context['context']))\n",
    "                    print('context_sentences sum(length)', np.sum([len(s) for s in qas_context['context_sentences']]))\n",
    "                    for answer in qas['answers']:\n",
    "                        print('answer_start', answer['answer_start'])\n",
    "                    print('y_pred: {}\\n'.format(y_pred))\n",
    "                    print('y: {}\\n'.format(y))\n",
    "                \n",
    "                idx += 1\n",
    "                '''\n",
    "                \n",
    "    # evaluation (MAP - mean average precision)\n",
    "    results['MAP'] = np.mean(results['AvgPrec'])\n",
    "    results['StdAP'] = np.std(results['AvgPrec'])\n",
    "    results['AvgPrec@1'] = np.mean(results['Prec@1'])\n",
    "    results['StdPrec@1'] = np.std(results['Prec@1'])\n",
    "    #results['AvgPrec@5'] = np.mean(results['Prec@5'])\n",
    "    #results['AvgPrec@10'] = np.mean(results['Prec@10'])\n",
    "    \n",
    "    return results"
   ]
  },
  {
   "cell_type": "markdown",
   "metadata": {},
   "source": [
    "### 2.1 Random approach"
   ]
  },
  {
   "cell_type": "code",
   "execution_count": 5,
   "metadata": {
    "collapsed": true
   },
   "outputs": [],
   "source": [
    "import numpy as np\n",
    "\n",
    "def random_solution(n):\n",
    "    return np.random.permutation(n).tolist()"
   ]
  },
  {
   "cell_type": "code",
   "execution_count": 6,
   "metadata": {
    "collapsed": true
   },
   "outputs": [],
   "source": [
    "def write_results(results):\n",
    "    print('Method: {}'.format(results['Method']))\n",
    "    print('AvgPrec@1: {} (std = {})'.format(results['AvgPrec@1'], results['StdPrec@1']))\n",
    "    print('MAP: {} (std = {})'.format(results['MAP'], results['StdAP']))\n",
    "    print('\\n')"
   ]
  },
  {
   "cell_type": "code",
   "execution_count": 7,
   "metadata": {},
   "outputs": [
    {
     "name": "stdout",
     "output_type": "stream",
     "text": [
      "Method: random_solution\n",
      "AvgPrec@1: 0.246155778034 (std = 0.430770369193)\n",
      "MAP: 0.492092720077 (std = 0.311369726415)\n",
      "\n",
      "\n"
     ]
    }
   ],
   "source": [
    "train_results = run(train, method='random_solution')\n",
    "write_results(train_results)"
   ]
  },
  {
   "cell_type": "markdown",
   "metadata": {},
   "source": [
    "### 2.2 String kernels"
   ]
  },
  {
   "cell_type": "markdown",
   "metadata": {},
   "source": [
    "** I will try to use string kernels at word level even if they are used as character-level method. **"
   ]
  },
  {
   "cell_type": "markdown",
   "metadata": {},
   "source": [
    "** Aux methods **"
   ]
  },
  {
   "cell_type": "code",
   "execution_count": 8,
   "metadata": {
    "collapsed": true
   },
   "outputs": [],
   "source": [
    "def num(word, sentence_words):\n",
    "    count = 0\n",
    "    for w in sentence_words:\n",
    "        if word == w:\n",
    "            count += 1\n",
    "    \n",
    "    return count"
   ]
  },
  {
   "cell_type": "markdown",
   "metadata": {},
   "source": [
    "### 2.2.1 Spectrum kernel"
   ]
  },
  {
   "cell_type": "code",
   "execution_count": 9,
   "metadata": {
    "collapsed": true
   },
   "outputs": [],
   "source": [
    "def spectrum_kernel_value(question_words, sentence_words):\n",
    "    kernel_value = 0\n",
    "    vocab_inters = set(question_words).intersection(sentence_words)\n",
    "    \n",
    "    for word in vocab_inters:\n",
    "        kernel_value += num(word, question_words) * num(word, sentence_words)\n",
    "        \n",
    "    return kernel_value"
   ]
  },
  {
   "cell_type": "markdown",
   "metadata": {},
   "source": [
    "### 2.2.2 Presence kernel"
   ]
  },
  {
   "cell_type": "code",
   "execution_count": 10,
   "metadata": {
    "collapsed": true
   },
   "outputs": [],
   "source": [
    "def presence_kernel_value(question_words, sentence_words):\n",
    "    kernel_value = 0\n",
    "    vocab_inters = set(question_words).intersection(sentence_words)\n",
    "    \n",
    "    return len(vocab_inters)"
   ]
  },
  {
   "cell_type": "markdown",
   "metadata": {},
   "source": [
    "### 2.2.3 Intersection kernel"
   ]
  },
  {
   "cell_type": "code",
   "execution_count": 11,
   "metadata": {
    "collapsed": true
   },
   "outputs": [],
   "source": [
    "def intersection_kernel_value(question_words, sentence_words):\n",
    "    kernel_value = 0\n",
    "    vocab_inters = set(question_words).intersection(sentence_words)\n",
    "    \n",
    "    for word in vocab_inters:\n",
    "        kernel_value += min(num(word, question_words), num(word, sentence_words))\n",
    "        \n",
    "    return kernel_value"
   ]
  },
  {
   "cell_type": "code",
   "execution_count": 12,
   "metadata": {
    "collapsed": true
   },
   "outputs": [],
   "source": [
    "def kernel_solution(question_words, context_sentences, kernel_type='intersection_kernel'):\n",
    "    scores = {}\n",
    "    \n",
    "    for sentence_label in range(len(context_sentences)):\n",
    "        kernel_value = 0\n",
    "        if kernel_type == 'spectrum_kernel':\n",
    "            kernel_value = spectrum_kernel_value(question_words, context_sentences[sentence_label])\n",
    "        elif kernel_type == 'presence_kernel':\n",
    "            kernel_value = presence_kernel_value(question_words, context_sentences[sentence_label])\n",
    "        elif kernel_type == 'intersection_kernel':\n",
    "            kernel_value = intersection_kernel_value(question_words, context_sentences[sentence_label])\n",
    "        \n",
    "        scores[sentence_label] = kernel_value\n",
    "        \n",
    "    labels = sorted(scores, key=scores.get, reverse=True)\n",
    "    \n",
    "    return labels"
   ]
  },
  {
   "cell_type": "code",
   "execution_count": 13,
   "metadata": {},
   "outputs": [
    {
     "name": "stdout",
     "output_type": "stream",
     "text": [
      "Method: spectrum_kernel\n",
      "AvgPrec@1: 0.677010406812 (std = 0.46761877195)\n",
      "MAP: 0.802783152628 (std = 0.282561751016)\n",
      "\n",
      "\n",
      "Method: presence_kernel\n",
      "AvgPrec@1: 0.793093661306 (std = 0.405087775306)\n",
      "MAP: 0.871033907576 (std = 0.244495759616)\n",
      "\n",
      "\n",
      "Method: intersection_kernel\n",
      "AvgPrec@1: 0.790350047304 (std = 0.407058779577)\n",
      "MAP: 0.869128338505 (std = 0.246021270821)\n",
      "\n",
      "\n"
     ]
    }
   ],
   "source": [
    "methods = ['spectrum_kernel', 'presence_kernel', 'intersection_kernel']\n",
    "for method in methods:\n",
    "    dev_results = run(dev, method)\n",
    "    write_results(dev_results)"
   ]
  },
  {
   "cell_type": "markdown",
   "metadata": {},
   "source": [
    "## 3. Results"
   ]
  },
  {
   "cell_type": "markdown",
   "metadata": {},
   "source": [
    "** First results **"
   ]
  },
  {
   "cell_type": "code",
   "execution_count": 14,
   "metadata": {},
   "outputs": [
    {
     "name": "stdout",
     "output_type": "stream",
     "text": [
      "---Results---train_set---\n",
      "Method: random_solution\n",
      "AvgPrec@1: 0.245333850843 (std = 0.43028496659)\n",
      "MAP: 0.491220185735 (std = 0.311236447457)\n",
      "\n",
      "\n",
      "Method: spectrum_kernel\n",
      "AvgPrec@1: 0.657781481524 (std = 0.474452320142)\n",
      "MAP: 0.793677682596 (std = 0.294664462039)\n",
      "\n",
      "\n",
      "Method: presence_kernel\n",
      "AvgPrec@1: 0.762463041816 (std = 0.4255739086)\n",
      "MAP: 0.856392399475 (std = 0.264111287787)\n",
      "\n",
      "\n",
      "Method: intersection_kernel\n",
      "AvgPrec@1: 0.759483555748 (std = 0.427397103753)\n",
      "MAP: 0.85435303237 (std = 0.265727202849)\n",
      "\n",
      "\n",
      "---Results---dev_set---\n",
      "Method: random_solution\n",
      "AvgPrec@1: 0.261400189215 (std = 0.439397462775)\n",
      "MAP: 0.5008188623 (std = 0.308482773397)\n",
      "\n",
      "\n",
      "Method: spectrum_kernel\n",
      "AvgPrec@1: 0.677010406812 (std = 0.46761877195)\n",
      "MAP: 0.802783152628 (std = 0.282561751016)\n",
      "\n",
      "\n",
      "Method: presence_kernel\n",
      "AvgPrec@1: 0.793093661306 (std = 0.405087775306)\n",
      "MAP: 0.871033907576 (std = 0.244495759616)\n",
      "\n",
      "\n",
      "Method: intersection_kernel\n",
      "AvgPrec@1: 0.790350047304 (std = 0.407058779577)\n",
      "MAP: 0.869128338505 (std = 0.246021270821)\n",
      "\n",
      "\n"
     ]
    }
   ],
   "source": [
    "methods = ['random_solution', 'spectrum_kernel', 'presence_kernel', 'intersection_kernel']\n",
    "\n",
    "\n",
    "print('---Results---train_set---')\n",
    "for method in methods:\n",
    "    dev_results = run(train, method)\n",
    "    write_results(dev_results)\n",
    "\n",
    "    \n",
    "print('---Results---dev_set---')\n",
    "for method in methods:\n",
    "    dev_results = run(dev, method)\n",
    "    write_results(dev_results)"
   ]
  }
 ],
 "metadata": {
  "kernelspec": {
   "display_name": "Python 2",
   "language": "python",
   "name": "python2"
  },
  "language_info": {
   "codemirror_mode": {
    "name": "ipython",
    "version": 2
   },
   "file_extension": ".py",
   "mimetype": "text/x-python",
   "name": "python",
   "nbconvert_exporter": "python",
   "pygments_lexer": "ipython2",
   "version": "2.7.14"
  }
 },
 "nbformat": 4,
 "nbformat_minor": 2
}
