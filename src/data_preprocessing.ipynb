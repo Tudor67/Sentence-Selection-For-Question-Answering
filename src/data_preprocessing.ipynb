{
 "cells": [
  {
   "cell_type": "markdown",
   "metadata": {},
   "source": [
    "## Content\n",
    "1. [Data loading](#1.-Data-loading)  \n",
    "2. [Structure of the data](#2.-Structure-of-the-data)  \n",
    "3. [Data preprocessing](#3.-Data-preprocessing)  \n",
    "    3.1 [Context/passage sentence tokenization](#3.1-Context/passage-sentence-tokenization-[1])  \n",
    "    3.2 [Building labels for correct answers](#3.2-Building-labels-for-correct-answers)  \n",
    "    3.3 [Word tokenization](#3.3-Word-tokenization-[1])  \n",
    "    3.4 [Lemmatization](#3.4-Lemmatization-[2])  \n",
    "    3.5 [Stopwords elimination](#3.5-Stopwords-elimination)  \n",
    "    3.6 [Summary: a single method for data preprocessing](#3.6-Summary:-a-single-method-for-data-preprocessing)  \n",
    "4. [Saving preprocessed data](#4.-Saving-preprocessed-data)"
   ]
  },
  {
   "cell_type": "markdown",
   "metadata": {},
   "source": [
    "## 1. Data loading"
   ]
  },
  {
   "cell_type": "code",
   "execution_count": 1,
   "metadata": {
    "collapsed": true
   },
   "outputs": [],
   "source": [
    "import json\n",
    "from pprint import pprint\n",
    "\n",
    "IN_PATH = '../data/squad/'\n",
    "\n",
    "\n",
    "def load_data(filename):\n",
    "    data = []\n",
    "    with open(filename) as f:\n",
    "        data = json.load(f)  \n",
    "        \n",
    "    return data\n",
    "\n",
    "\n",
    "train = load_data(IN_PATH + 'train-v1.1.json')\n",
    "dev = load_data(IN_PATH + 'dev-v1.1.json')"
   ]
  },
  {
   "cell_type": "markdown",
   "metadata": {},
   "source": [
    "## 2. Structure of the data \n",
    "** The structure of the data can be seen in the following way:  **\n",
    "<pre>       \n",
    "            dataset   \n",
    "            (dict)   \n",
    "            /    \\  \n",
    "           /      \\  \n",
    "      'version'   'data'\n",
    "      (string)    (list)\n",
    "                  # each element in the list represents an article (dict)  \n",
    "                     |\n",
    "                     |\n",
    "                  articles\n",
    "                   (dict)\n",
    "                   /    \\\n",
    "                  /      \\\n",
    "             'title'   'paragraphs'  \n",
    "             (string)     (list)\n",
    "                          # each element in the list is an dict with 'qas' and 'context' keys\n",
    "                             |\n",
    "                             |\n",
    "                            pair\n",
    "                           (dict)\n",
    "                          /      \\\n",
    "                         /        \\\n",
    "                        /          \\\n",
    "                       /            \\\n",
    "                 'context'          'qas'\n",
    "                 (string)           (list)\n",
    "                  # context of      # each element in the list is a dict with 3 keys\n",
    "                    the questions      |\n",
    "                    and answers        |\n",
    "                                       |\n",
    "                                 question-answer\n",
    "                                     (dict)\n",
    "                                    /   |   \\\n",
    "                                   /    |    \\\n",
    "                                  /     |     \\\n",
    "                               'id' 'question' 'answers'\n",
    "                             (string)(string)   (list)\n",
    "                                                # each element in the list is an answer dict with \n",
    "                                                'text' of the answer and 'answer_start'\n",
    "                                                  |\n",
    "                                                  |\n",
    "                                                answer\n",
    "                                                (dict)\n",
    "                                                /     \\\n",
    "                                               /       \\\n",
    "                                        'answer_start' 'text'\n",
    "                                            (int)     (string)                                   \n",
    "</pre>"
   ]
  },
  {
   "cell_type": "markdown",
   "metadata": {},
   "source": [
    "## 3. Data preprocessing"
   ]
  },
  {
   "cell_type": "markdown",
   "metadata": {},
   "source": [
    "### 3.1 Context/passage sentence tokenization [[1]](#References)\n",
    "** Let's split sentences for all passages. These sentences are candidate answers for the questions from the same paragraph. **"
   ]
  },
  {
   "cell_type": "code",
   "execution_count": 2,
   "metadata": {
    "collapsed": true
   },
   "outputs": [],
   "source": [
    "from nltk.tokenize import sent_tokenize\n",
    "\n",
    "\n",
    "def tokenize_sent_from_context(dataset):\n",
    "    for article in dataset['data']:\n",
    "        for qas_context in article['paragraphs']:\n",
    "            qas_context['context_sentences'] = sent_tokenize(qas_context['context'])"
   ]
  },
  {
   "cell_type": "code",
   "execution_count": 3,
   "metadata": {},
   "outputs": [],
   "source": [
    "tokenize_sent_from_context(dev)\n",
    "tokenize_sent_from_context(train)"
   ]
  },
  {
   "cell_type": "code",
   "execution_count": 4,
   "metadata": {},
   "outputs": [
    {
     "name": "stdout",
     "output_type": "stream",
     "text": [
      "[u'Super Bowl 50 was an American football game to determine the champion of the National Football League (NFL) for the 2015 season.',\n",
      " u'The American Football Conference (AFC) champion Denver Broncos defeated the National Football Conference (NFC) champion Carolina Panthers 24\\u201310 to earn their third Super Bowl title.',\n",
      " u\"The game was played on February 7, 2016, at Levi's Stadium in the San Francisco Bay Area at Santa Clara, California.\",\n",
      " u'As this was the 50th Super Bowl, the league emphasized the \"golden anniversary\" with various gold-themed initiatives, as well as temporarily suspending the tradition of naming each Super Bowl game with Roman numerals (under which the game would have been known as \"Super Bowl L\"), so that the logo could prominently feature the Arabic numerals 50.']\n"
     ]
    }
   ],
   "source": [
    "pprint(dev['data'][0]['paragraphs'][0]['context_sentences'])"
   ]
  },
  {
   "cell_type": "markdown",
   "metadata": {},
   "source": [
    "### 3.2 Building labels for correct answers"
   ]
  },
  {
   "cell_type": "code",
   "execution_count": 5,
   "metadata": {
    "collapsed": true
   },
   "outputs": [],
   "source": [
    "def get_answer_label(sentences_lengths, answer_pos):\n",
    "    lengths_sum = 0\n",
    "    for i in range(len(sentences_lengths)):\n",
    "        lengths_sum += sentences_lengths[i]\n",
    "        if answer_pos <= lengths_sum:\n",
    "            return i\n",
    "        \n",
    "    # if something is wrong then return -1\n",
    "    return -1\n",
    "\n",
    "\n",
    "def building_labels_for_correct_answers(dataset):\n",
    "    for article in dataset['data']:\n",
    "        for qas_context in article['paragraphs']:\n",
    "            # get the number of context_sentences <=> number of candidate answers\n",
    "            qas_context['nr_candidate_answers'] = len(qas_context['context_sentences'])\n",
    "            \n",
    "            # get lengths of context_sentences\n",
    "            context_sentences_lengths = [len(s) for s in qas_context['context_sentences']]\n",
    "\n",
    "            # get answers' labels from context\n",
    "            for qas in qas_context['qas']:\n",
    "                for answer in qas['answers']:\n",
    "                    answer['answer_label'] = get_answer_label(context_sentences_lengths, answer['answer_start'])"
   ]
  },
  {
   "cell_type": "code",
   "execution_count": 6,
   "metadata": {},
   "outputs": [],
   "source": [
    "building_labels_for_correct_answers(dev)\n",
    "building_labels_for_correct_answers(train)"
   ]
  },
  {
   "cell_type": "markdown",
   "metadata": {},
   "source": [
    "** Let's plot the distribution of the number of candidate answers for both train and dev set. **"
   ]
  },
  {
   "cell_type": "code",
   "execution_count": 7,
   "metadata": {},
   "outputs": [],
   "source": [
    "%matplotlib inline\n",
    "import matplotlib.pyplot as plt\n",
    "\n",
    "\n",
    "def get_all_nr_candidate_answers(dataset):\n",
    "    all_nr_candidate_answers = list()\n",
    "    for article in dataset['data']:\n",
    "        for qas_context in article['paragraphs']:\n",
    "            all_nr_candidate_answers.append(qas_context['nr_candidate_answers'])\n",
    "            \n",
    "    return all_nr_candidate_answers\n",
    "\n",
    "\n",
    "def show_hist_for_candidate_answers(dataset):\n",
    "    x = get_all_nr_candidate_answers(dataset)\n",
    "    my_plot = plt.hist(x)\n",
    "    return my_plot\n",
    "\n",
    "\n",
    "def show_both_hists_for_candidate_answers(train, dev):\n",
    "    x_train = get_all_nr_candidate_answers(train)\n",
    "    x_dev = get_all_nr_candidate_answers(dev)\n",
    "    \n",
    "    fig, axs = plt.subplots(1, 2)\n",
    "    plt.subplots_adjust(wspace=0.4)\n",
    "    \n",
    "    axs[0].hist(x_train)\n",
    "    axs[0].set_xlabel('nr of candidate answers (train)')\n",
    "    axs[0].set_ylabel('frequency')\n",
    "    \n",
    "    axs[1].hist(x_dev)\n",
    "    axs[1].set_xlabel('nr of candidate answers (dev)')\n",
    "    axs[1].set_ylabel('frequency')"
   ]
  },
  {
   "cell_type": "code",
   "execution_count": 8,
   "metadata": {},
   "outputs": [
    {
     "data": {
      "image/png": "[encoded data removed]",
      "text/plain": [
       "<matplotlib.figure.Figure at 0x7f3790652bd0>"
      ]
     },
     "metadata": {},
     "output_type": "display_data"
    }
   ],
   "source": [
    "show_both_hists_for_candidate_answers(train, dev)"
   ]
  },
  {
   "cell_type": "code",
   "execution_count": 9,
   "metadata": {},
   "outputs": [
    {
     "name": "stdout",
     "output_type": "stream",
     "text": [
      "[u'Super Bowl 50 was an American football game to determine the champion of the National Football League (NFL) for the 2015 season.',\n",
      " u'The American Football Conference (AFC) champion Denver Broncos defeated the National Football Conference (NFC) champion Carolina Panthers 24\\u201310 to earn their third Super Bowl title.',\n",
      " u\"The game was played on February 7, 2016, at Levi's Stadium in the San Francisco Bay Area at Santa Clara, California.\",\n",
      " u'As this was the 50th Super Bowl, the league emphasized the \"golden anniversary\" with various gold-themed initiatives, as well as temporarily suspending the tradition of naming each Super Bowl game with Roman numerals (under which the game would have been known as \"Super Bowl L\"), so that the logo could prominently feature the Arabic numerals 50.']\n",
      "u'What is the AFC short for?'\n",
      "text: American Football Conference\n",
      "\n",
      "answer: 0\n",
      "answer_start: 133\n",
      "answer_label: 1\n",
      "\n",
      "answer: 1\n",
      "answer_start: 133\n",
      "answer_label: 1\n",
      "\n",
      "answer: 2\n",
      "answer_start: 133\n",
      "answer_label: 1\n",
      "\n"
     ]
    }
   ],
   "source": [
    "pprint(dev['data'][0]['paragraphs'][0]['context_sentences'])\n",
    "pprint(dev['data'][0]['paragraphs'][0]['qas'][7]['question'])\n",
    "print('text: ' + dev['data'][0]['paragraphs'][0]['qas'][7]['answers'][0]['text'] + '\\n')\n",
    "for i in range(len(dev['data'][0]['paragraphs'][0]['qas'][7]['answers'])):\n",
    "    print('answer: {}'.format(i))\n",
    "    print('answer_start: {}'.format(dev['data'][0]['paragraphs'][0]['qas'][7]['answers'][i]['answer_start']))\n",
    "    print('answer_label: {}\\n'.format(dev['data'][0]['paragraphs'][0]['qas'][7]['answers'][i]['answer_label']))"
   ]
  },
  {
   "cell_type": "markdown",
   "metadata": {},
   "source": [
    "** Let's plot the distribution of answers' labels for both train and dev set. **\n"
   ]
  },
  {
   "cell_type": "code",
   "execution_count": 10,
   "metadata": {
    "collapsed": true
   },
   "outputs": [],
   "source": [
    "def get_all_answers_labels(dataset):\n",
    "    all_answers_labels = list()\n",
    "    for article in dataset['data']:\n",
    "        for qas_context in article['paragraphs']:\n",
    "            for qas in qas_context['qas']:\n",
    "                for answer in qas['answers']:\n",
    "                    all_answers_labels.append(answer['answer_label'])\n",
    "            \n",
    "    return all_answers_labels\n",
    "\n",
    "\n",
    "def show_both_hists_for_answers_labels(train, dev):\n",
    "    x_train = get_all_answers_labels(train)\n",
    "    x_dev = get_all_answers_labels(dev)\n",
    "    \n",
    "    fig, axs = plt.subplots(1, 2)\n",
    "    plt.subplots_adjust(wspace=0.4)\n",
    "    \n",
    "    axs[0].hist(x_train)\n",
    "    axs[0].set_xlabel(\"answers' label (train)\")\n",
    "    axs[0].set_ylabel('frequency')\n",
    "    \n",
    "    axs[1].hist(x_dev)\n",
    "    axs[1].set_xlabel(\"answers' label (dev)\")\n",
    "    axs[1].set_ylabel('frequency')"
   ]
  },
  {
   "cell_type": "code",
   "execution_count": 11,
   "metadata": {},
   "outputs": [
    {
     "data": {
      "image/png": "[encoded data removed]",
      "text/plain": [
       "<matplotlib.figure.Figure at 0x7f3750a4bf10>"
      ]
     },
     "metadata": {},
     "output_type": "display_data"
    }
   ],
   "source": [
    "show_both_hists_for_answers_labels(train, dev)"
   ]
  },
  {
   "cell_type": "markdown",
   "metadata": {},
   "source": [
    "** As a conclusion, answers' labels are not uniformly distributed in both train and dev set. The most probable answers' labels are in the range [0, 5]. **"
   ]
  },
  {
   "cell_type": "markdown",
   "metadata": {},
   "source": [
    "### 3.3 Word tokenization [[1]](#References)\n",
    "** Word tokenization for questions and context with removal of non-alphanumeric tokens.**"
   ]
  },
  {
   "cell_type": "code",
   "execution_count": 12,
   "metadata": {
    "collapsed": true
   },
   "outputs": [],
   "source": [
    "from nltk.tokenize import WordPunctTokenizer\n",
    "\n",
    "\n",
    "def remove_non_alnum(word_list):\n",
    "    return [word.lower() for word in word_list if word.isalnum()]\n",
    "\n",
    "\n",
    "def tokenize_words(dataset):\n",
    "    word_punct_tokenizer = WordPunctTokenizer()\n",
    "    for article in dataset['data']:\n",
    "        for qas_context in article['paragraphs']:\n",
    "            # tokenize all context_sentences\n",
    "            qas_context['context_sentences_words'] = list()\n",
    "            for sentence in qas_context['context_sentences']:\n",
    "                word_list = word_punct_tokenizer.tokenize(sentence)\n",
    "                qas_context['context_sentences_words'].append(remove_non_alnum(word_list))\n",
    "            \n",
    "            # tokenize questions\n",
    "            for qas in qas_context['qas']:\n",
    "                question = qas['question']\n",
    "                word_list = word_punct_tokenizer.tokenize(question)\n",
    "                qas['question_words'] = remove_non_alnum(word_list)"
   ]
  },
  {
   "cell_type": "code",
   "execution_count": 13,
   "metadata": {
    "collapsed": true
   },
   "outputs": [],
   "source": [
    "tokenize_words(dev)"
   ]
  },
  {
   "cell_type": "code",
   "execution_count": 14,
   "metadata": {},
   "outputs": [
    {
     "name": "stdout",
     "output_type": "stream",
     "text": [
      "u'Super Bowl 50 was an American football game to determine the champion of the National Football League (NFL) for the 2015 season.'\n",
      "[u'super',\n",
      " u'bowl',\n",
      " u'50',\n",
      " u'was',\n",
      " u'an',\n",
      " u'american',\n",
      " u'football',\n",
      " u'game',\n",
      " u'to',\n",
      " u'determine',\n",
      " u'the',\n",
      " u'champion',\n",
      " u'of',\n",
      " u'the',\n",
      " u'national',\n",
      " u'football',\n",
      " u'league',\n",
      " u'nfl',\n",
      " u'for',\n",
      " u'the',\n",
      " u'2015',\n",
      " u'season']\n"
     ]
    }
   ],
   "source": [
    "pprint(dev['data'][0]['paragraphs'][0]['context_sentences'][0])\n",
    "pprint(dev['data'][0]['paragraphs'][0]['context_sentences_words'][0])"
   ]
  },
  {
   "cell_type": "code",
   "execution_count": 15,
   "metadata": {},
   "outputs": [
    {
     "name": "stdout",
     "output_type": "stream",
     "text": [
      "u'Which NFL team represented the AFC at Super Bowl 50?'\n",
      "[u'which',\n",
      " u'nfl',\n",
      " u'team',\n",
      " u'represented',\n",
      " u'the',\n",
      " u'afc',\n",
      " u'at',\n",
      " u'super',\n",
      " u'bowl',\n",
      " u'50']\n"
     ]
    }
   ],
   "source": [
    "pprint(dev['data'][0]['paragraphs'][0]['qas'][0]['question'])\n",
    "pprint(dev['data'][0]['paragraphs'][0]['qas'][0]['question_words'])"
   ]
  },
  {
   "cell_type": "markdown",
   "metadata": {},
   "source": [
    "### 3.4 Lemmatization [[2]](2)"
   ]
  },
  {
   "cell_type": "code",
   "execution_count": 16,
   "metadata": {
    "collapsed": true
   },
   "outputs": [],
   "source": [
    "from nltk.stem import WordNetLemmatizer\n",
    "\n",
    "\n",
    "lemmatizer = WordNetLemmatizer()\n",
    "def lemmatize_tokens(tokens):\n",
    "    lemmas = [lemmatizer.lemmatize(token, pos='v') for token in tokens]\n",
    "    return lemmas\n",
    "\n",
    "\n",
    "def lemmatization(dataset):\n",
    "    word_punct_tokenizer = WordPunctTokenizer()\n",
    "    for article in dataset['data']:\n",
    "        for qas_context in article['paragraphs']:\n",
    "            # lemmatize all context_sentences_words\n",
    "            qas_context['context_sentences_lemmas'] = list()\n",
    "            for word_list in qas_context['context_sentences_words']:\n",
    "                qas_context['context_sentences_lemmas'].append(lemmatize_tokens(word_list))\n",
    "            \n",
    "            # lemmatize questions\n",
    "            for qas in qas_context['qas']:\n",
    "                word_list = qas['question_words']\n",
    "                qas['question_lemmas'] = lemmatize_tokens(word_list)"
   ]
  },
  {
   "cell_type": "code",
   "execution_count": 17,
   "metadata": {
    "collapsed": true
   },
   "outputs": [],
   "source": [
    "lemmatization(dev)"
   ]
  },
  {
   "cell_type": "code",
   "execution_count": 18,
   "metadata": {},
   "outputs": [
    {
     "name": "stdout",
     "output_type": "stream",
     "text": [
      "u\"The game was played on February 7, 2016, at Levi's Stadium in the San Francisco Bay Area at Santa Clara, California.\"\n",
      "[u'the',\n",
      " u'game',\n",
      " u'was',\n",
      " u'played',\n",
      " u'on',\n",
      " u'february',\n",
      " u'7',\n",
      " u'2016',\n",
      " u'at',\n",
      " u'levi',\n",
      " u's',\n",
      " u'stadium',\n",
      " u'in',\n",
      " u'the',\n",
      " u'san',\n",
      " u'francisco',\n",
      " u'bay',\n",
      " u'area',\n",
      " u'at',\n",
      " u'santa',\n",
      " u'clara',\n",
      " u'california']\n",
      "[u'the',\n",
      " u'game',\n",
      " u'be',\n",
      " u'play',\n",
      " u'on',\n",
      " u'february',\n",
      " u'7',\n",
      " u'2016',\n",
      " u'at',\n",
      " u'levi',\n",
      " u's',\n",
      " u'stadium',\n",
      " u'in',\n",
      " u'the',\n",
      " u'san',\n",
      " u'francisco',\n",
      " u'bay',\n",
      " u'area',\n",
      " u'at',\n",
      " u'santa',\n",
      " u'clara',\n",
      " u'california']\n"
     ]
    }
   ],
   "source": [
    "pprint(dev['data'][0]['paragraphs'][0]['context_sentences'][2])\n",
    "pprint(dev['data'][0]['paragraphs'][0]['context_sentences_words'][2])\n",
    "pprint(dev['data'][0]['paragraphs'][0]['context_sentences_lemmas'][2])"
   ]
  },
  {
   "cell_type": "code",
   "execution_count": 19,
   "metadata": {},
   "outputs": [
    {
     "name": "stdout",
     "output_type": "stream",
     "text": [
      "u'Which NFL team represented the AFC at Super Bowl 50?'\n",
      "[u'which',\n",
      " u'nfl',\n",
      " u'team',\n",
      " u'represented',\n",
      " u'the',\n",
      " u'afc',\n",
      " u'at',\n",
      " u'super',\n",
      " u'bowl',\n",
      " u'50']\n",
      "[u'which',\n",
      " u'nfl',\n",
      " u'team',\n",
      " u'represent',\n",
      " u'the',\n",
      " u'afc',\n",
      " u'at',\n",
      " u'super',\n",
      " u'bowl',\n",
      " u'50']\n"
     ]
    }
   ],
   "source": [
    "pprint(dev['data'][0]['paragraphs'][0]['qas'][0]['question'])\n",
    "pprint(dev['data'][0]['paragraphs'][0]['qas'][0]['question_words'])\n",
    "pprint(dev['data'][0]['paragraphs'][0]['qas'][0]['question_lemmas'])"
   ]
  },
  {
   "cell_type": "markdown",
   "metadata": {},
   "source": [
    "### 3.5 Stopwords elimination"
   ]
  },
  {
   "cell_type": "code",
   "execution_count": 20,
   "metadata": {
    "collapsed": true
   },
   "outputs": [],
   "source": [
    "from nltk.corpus import stopwords\n",
    "\n",
    "\n",
    "def remove_stopwords(tokens):\n",
    "    stopwords_set = set(stopwords.words('english'))\n",
    "    filtered_tokens = [token for token in tokens if token not in set(stopwords_set)]   \n",
    "    return filtered_tokens\n",
    "\n",
    "\n",
    "def stopwords_elimination(dataset):\n",
    "    for article in dataset['data']:\n",
    "        for qas_context in article['paragraphs']:\n",
    "            # remove stopwords from context_sentences_lemmas\n",
    "            qas_context['context_sentences_lemmas_without_stopwords'] = list()\n",
    "            for lemmas_list in qas_context['context_sentences_lemmas']:\n",
    "                qas_context['context_sentences_lemmas_without_stopwords'].append(remove_stopwords(lemmas_list))\n",
    "            \n",
    "            # remove stopwords from questions lemmas\n",
    "            for qas in qas_context['qas']:\n",
    "                lemmas_list = qas['question_lemmas']\n",
    "                qas['question_lemmas_without_stopwords'] = remove_stopwords(lemmas_list)"
   ]
  },
  {
   "cell_type": "code",
   "execution_count": 21,
   "metadata": {
    "collapsed": true
   },
   "outputs": [],
   "source": [
    "stopwords_elimination(dev)"
   ]
  },
  {
   "cell_type": "code",
   "execution_count": 22,
   "metadata": {},
   "outputs": [
    {
     "name": "stdout",
     "output_type": "stream",
     "text": [
      "u\"The game was played on February 7, 2016, at Levi's Stadium in the San Francisco Bay Area at Santa Clara, California.\"\n",
      "[u'the',\n",
      " u'game',\n",
      " u'was',\n",
      " u'played',\n",
      " u'on',\n",
      " u'february',\n",
      " u'7',\n",
      " u'2016',\n",
      " u'at',\n",
      " u'levi',\n",
      " u's',\n",
      " u'stadium',\n",
      " u'in',\n",
      " u'the',\n",
      " u'san',\n",
      " u'francisco',\n",
      " u'bay',\n",
      " u'area',\n",
      " u'at',\n",
      " u'santa',\n",
      " u'clara',\n",
      " u'california']\n",
      "[u'the',\n",
      " u'game',\n",
      " u'be',\n",
      " u'play',\n",
      " u'on',\n",
      " u'february',\n",
      " u'7',\n",
      " u'2016',\n",
      " u'at',\n",
      " u'levi',\n",
      " u's',\n",
      " u'stadium',\n",
      " u'in',\n",
      " u'the',\n",
      " u'san',\n",
      " u'francisco',\n",
      " u'bay',\n",
      " u'area',\n",
      " u'at',\n",
      " u'santa',\n",
      " u'clara',\n",
      " u'california']\n",
      "[u'game',\n",
      " u'play',\n",
      " u'february',\n",
      " u'7',\n",
      " u'2016',\n",
      " u'levi',\n",
      " u'stadium',\n",
      " u'san',\n",
      " u'francisco',\n",
      " u'bay',\n",
      " u'area',\n",
      " u'santa',\n",
      " u'clara',\n",
      " u'california']\n"
     ]
    }
   ],
   "source": [
    "pprint(dev['data'][0]['paragraphs'][0]['context_sentences'][2])\n",
    "pprint(dev['data'][0]['paragraphs'][0]['context_sentences_words'][2])\n",
    "pprint(dev['data'][0]['paragraphs'][0]['context_sentences_lemmas'][2])\n",
    "pprint(dev['data'][0]['paragraphs'][0]['context_sentences_lemmas_without_stopwords'][2])"
   ]
  },
  {
   "cell_type": "code",
   "execution_count": 23,
   "metadata": {},
   "outputs": [
    {
     "name": "stdout",
     "output_type": "stream",
     "text": [
      "u'Which NFL team represented the AFC at Super Bowl 50?'\n",
      "[u'which',\n",
      " u'nfl',\n",
      " u'team',\n",
      " u'represented',\n",
      " u'the',\n",
      " u'afc',\n",
      " u'at',\n",
      " u'super',\n",
      " u'bowl',\n",
      " u'50']\n",
      "[u'which',\n",
      " u'nfl',\n",
      " u'team',\n",
      " u'represent',\n",
      " u'the',\n",
      " u'afc',\n",
      " u'at',\n",
      " u'super',\n",
      " u'bowl',\n",
      " u'50']\n",
      "[u'nfl', u'team', u'represent', u'afc', u'super', u'bowl', u'50']\n"
     ]
    }
   ],
   "source": [
    "pprint(dev['data'][0]['paragraphs'][0]['qas'][0]['question'])\n",
    "pprint(dev['data'][0]['paragraphs'][0]['qas'][0]['question_words'])\n",
    "pprint(dev['data'][0]['paragraphs'][0]['qas'][0]['question_lemmas'])\n",
    "pprint(dev['data'][0]['paragraphs'][0]['qas'][0]['question_lemmas_without_stopwords'])"
   ]
  },
  {
   "cell_type": "markdown",
   "metadata": {},
   "source": [
    "### 3.6 Summary: a single method for data preprocessing"
   ]
  },
  {
   "cell_type": "code",
   "execution_count": 24,
   "metadata": {},
   "outputs": [],
   "source": [
    "def data_preprocessing(dataset):\n",
    "    tokenize_sent_from_context(dataset)\n",
    "    building_labels_for_correct_answers(dataset)\n",
    "    tokenize_words(dataset)\n",
    "    lemmatization(dataset)\n",
    "    stopwords_elimination(dataset)"
   ]
  },
  {
   "cell_type": "code",
   "execution_count": 25,
   "metadata": {
    "collapsed": true
   },
   "outputs": [],
   "source": [
    "train = load_data(IN_PATH + 'train-v1.1.json')\n",
    "dev = load_data(IN_PATH + 'dev-v1.1.json')"
   ]
  },
  {
   "cell_type": "code",
   "execution_count": 26,
   "metadata": {},
   "outputs": [
    {
     "name": "stdout",
     "output_type": "stream",
     "text": [
      "---data_preprocessing---train---\n",
      "---data_preprocessing---dev---\n"
     ]
    }
   ],
   "source": [
    "print('---data_preprocessing---train---')\n",
    "data_preprocessing(train)\n",
    "print('---data_preprocessing---dev---')\n",
    "data_preprocessing(dev)"
   ]
  },
  {
   "cell_type": "markdown",
   "metadata": {},
   "source": [
    "## 4. Saving preprocessed data"
   ]
  },
  {
   "cell_type": "code",
   "execution_count": 27,
   "metadata": {
    "collapsed": true
   },
   "outputs": [],
   "source": [
    "def save_preprocessed_data(dataset, filename):\n",
    "    with open(filename, 'w') as f:\n",
    "        json.dump(dataset, f)\n",
    "        \n",
    "\n",
    "save_preprocessed_data(train, IN_PATH + 'train-v1.1-preprocessed.json')\n",
    "save_preprocessed_data(dev, IN_PATH + 'dev-v1.1-preprocessed.json')"
   ]
  },
  {
   "cell_type": "markdown",
   "metadata": {},
   "source": [
    "### References\n",
    "[1] http://textminingonline.com/dive-into-nltk-part-ii-sentence-tokenize-and-word-tokenize  \n",
    "[2] http://textminingonline.com/dive-into-nltk-part-iv-stemming-and-lemmatization"
   ]
  }
 ],
 "metadata": {
  "kernelspec": {
   "display_name": "Python 2",
   "language": "python",
   "name": "python2"
  },
  "language_info": {
   "codemirror_mode": {
    "name": "ipython",
    "version": 2
   },
   "file_extension": ".py",
   "mimetype": "text/x-python",
   "name": "python",
   "nbconvert_exporter": "python",
   "pygments_lexer": "ipython2",
   "version": "2.7.14"
  }
 },
 "nbformat": 4,
 "nbformat_minor": 2
}
